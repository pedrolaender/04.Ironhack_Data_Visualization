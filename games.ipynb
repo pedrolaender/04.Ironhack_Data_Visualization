{
 "cells": [
  {
   "cell_type": "code",
   "execution_count": 5,
   "metadata": {},
   "outputs": [],
   "source": [
    "import pandas as pd\n",
    "import numpy as np"
   ]
  },
  {
   "cell_type": "code",
   "execution_count": 10,
   "metadata": {},
   "outputs": [],
   "source": [
    "games = pd.read_csv('games/vgsales01.csv',\n",
    "                        sep=';',\n",
    "                        decimal='.',\n",
    "                        index_col=False)"
   ]
  },
  {
   "cell_type": "code",
   "execution_count": 11,
   "metadata": {},
   "outputs": [],
   "source": [
    "games.to_csv('games/vgsales01.csv',\n",
    "                sep=';',\n",
    "                decimal='.',\n",
    "                index=False)"
   ]
  }
 ],
 "metadata": {
  "kernelspec": {
   "display_name": "Python 3.9.12 ('base')",
   "language": "python",
   "name": "python3"
  },
  "language_info": {
   "codemirror_mode": {
    "name": "ipython",
    "version": 3
   },
   "file_extension": ".py",
   "mimetype": "text/x-python",
   "name": "python",
   "nbconvert_exporter": "python",
   "pygments_lexer": "ipython3",
   "version": "3.9.12"
  },
  "orig_nbformat": 4,
  "vscode": {
   "interpreter": {
    "hash": "2d90c038637108ac29aff4d22cdf99e3e2599f922ccc5532827d676edf9e0ab0"
   }
  }
 },
 "nbformat": 4,
 "nbformat_minor": 2
}
